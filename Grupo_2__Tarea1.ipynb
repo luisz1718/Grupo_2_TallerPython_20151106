{
  "nbformat": 4,
  "nbformat_minor": 0,
  "metadata": {
    "colab": {
      "provenance": []
    },
    "kernelspec": {
      "name": "python3",
      "display_name": "Python 3"
    },
    "language_info": {
      "name": "python"
    }
  },
  "cells": [
    {
      "cell_type": "code",
      "execution_count": null,
      "metadata": {
        "id": "5ASidG_CpN3P",
        "outputId": "5dee85dc-62c4-49e1-e1c9-827ac61756c1",
        "colab": {
          "base_uri": "https://localhost:8080/"
        }
      },
      "outputs": [
        {
          "output_type": "stream",
          "name": "stdout",
          "text": [
            "Es múltiplo de 2 y 3\n"
          ]
        }
      ],
      "source": [
        "#I. Utilizando un “if else” cree una estructura que evalúe “x” tal que:\n",
        "\n",
        "x=6\n",
        "\n",
        "if x % 2 == 0 and x % 3 == 0:\n",
        "  print (\"Es múltiplo de 2 y 3\")\n",
        "elif x % 2 == 0:\n",
        "  print (\"Es múltiplo de 2\")\n",
        "elif x % 3 == 0:\n",
        "  print (\"Es múltiplo de 3\")\n",
        "else:\n",
        "  print (\"Otro caso\")"
      ]
    },
    {
      "cell_type": "code",
      "source": [
        "#II. Utilizando un “for loop” y el condicional “if else” para un rango del 1 al 100, evalúe “x”\n",
        "\n",
        "lista = list(range(1,101))\n",
        "\n",
        "for x in lista:\n",
        "  if x % 3 == 0 and x % 5 == 0 :\n",
        "    print (\"FizzBuzz\")\n",
        "  elif x % 3 == 0:\n",
        "    print (\"Fizz\")\n",
        "  elif x % 5 == 0:\n",
        "    print(\"Buzz\")\n",
        "  else:\n",
        "    print(x)\n"
      ],
      "metadata": {
        "id": "y-9aczCp6cKq",
        "outputId": "2e417257-b45b-4594-9155-855647c7a16b",
        "colab": {
          "base_uri": "https://localhost:8080/"
        }
      },
      "execution_count": null,
      "outputs": [
        {
          "output_type": "stream",
          "name": "stdout",
          "text": [
            "1\n",
            "2\n",
            "Fizz\n",
            "4\n",
            "Buzz\n",
            "Fizz\n",
            "7\n",
            "8\n",
            "Fizz\n",
            "Buzz\n",
            "11\n",
            "Fizz\n",
            "13\n",
            "14\n",
            "FizzBuzz\n",
            "16\n",
            "17\n",
            "Fizz\n",
            "19\n",
            "Buzz\n",
            "Fizz\n",
            "22\n",
            "23\n",
            "Fizz\n",
            "Buzz\n",
            "26\n",
            "Fizz\n",
            "28\n",
            "29\n",
            "FizzBuzz\n",
            "31\n",
            "32\n",
            "Fizz\n",
            "34\n",
            "Buzz\n",
            "Fizz\n",
            "37\n",
            "38\n",
            "Fizz\n",
            "Buzz\n",
            "41\n",
            "Fizz\n",
            "43\n",
            "44\n",
            "FizzBuzz\n",
            "46\n",
            "47\n",
            "Fizz\n",
            "49\n",
            "Buzz\n",
            "Fizz\n",
            "52\n",
            "53\n",
            "Fizz\n",
            "Buzz\n",
            "56\n",
            "Fizz\n",
            "58\n",
            "59\n",
            "FizzBuzz\n",
            "61\n",
            "62\n",
            "Fizz\n",
            "64\n",
            "Buzz\n",
            "Fizz\n",
            "67\n",
            "68\n",
            "Fizz\n",
            "Buzz\n",
            "71\n",
            "Fizz\n",
            "73\n",
            "74\n",
            "FizzBuzz\n",
            "76\n",
            "77\n",
            "Fizz\n",
            "79\n",
            "Buzz\n",
            "Fizz\n",
            "82\n",
            "83\n",
            "Fizz\n",
            "Buzz\n",
            "86\n",
            "Fizz\n",
            "88\n",
            "89\n",
            "FizzBuzz\n",
            "91\n",
            "92\n",
            "Fizz\n",
            "94\n",
            "Buzz\n",
            "Fizz\n",
            "97\n",
            "98\n",
            "Fizz\n",
            "Buzz\n"
          ]
        }
      ]
    },
    {
      "cell_type": "code",
      "source": [
        "#III. Crea una función 𝒄𝒂𝒍𝒄𝒖𝒍𝒂𝒓_𝒅𝒆𝒔𝒄𝒖𝒆𝒏𝒕𝒐() que permita calcular el descuento aplicado a un producto. Si el total es mayor o igual a 1000, aplica un 20% de descuento, si el total es\n",
        "\n",
        "def calcular_descuento(precio):\n",
        "  if precio >= 500 and precio < 1000:\n",
        "    total = precio * 0.9\n",
        "  elif precio >= 1000:\n",
        "    total = precio * 0.8\n",
        "  else:\n",
        "    total = precio\n",
        "  return total\n",
        "\n",
        "print(calcular_descuento (1200))\n",
        "print(calcular_descuento (750))\n",
        "print(calcular_descuento (300))\n"
      ],
      "metadata": {
        "id": "l4QCCWmv8ay9",
        "outputId": "df3efee1-8f33-4f62-ab72-4af80b19dc6b",
        "colab": {
          "base_uri": "https://localhost:8080/"
        }
      },
      "execution_count": null,
      "outputs": [
        {
          "output_type": "stream",
          "name": "stdout",
          "text": [
            "960.0\n",
            "675.0\n",
            "300\n"
          ]
        }
      ]
    },
    {
      "cell_type": "code",
      "source": [
        "#IV. Crea una función llamada clasificar_edad() que reciba como parámetro la edad de una persona\n",
        "\n",
        "def clasificar_edad(edad):\n",
        "  if edad < 12:\n",
        "    categoria = 'Niño'\n",
        "  elif edad >= 12 and edad <= 17:\n",
        "    categoria = 'Adolescente'\n",
        "  elif edad >= 18 and edad <= 24:\n",
        "    categoria = 'Joven'\n",
        "  elif edad >= 25 and edad <= 64:\n",
        "    categoria = 'Adulto'\n",
        "  elif edad >= 65:\n",
        "    categoria = 'Adulto mayor'\n",
        "  return categoria\n",
        "\n",
        "print (clasificar_edad (10))\n",
        "print (clasificar_edad (19))\n",
        "print (clasificar_edad (25))\n",
        "print (clasificar_edad (70))\n"
      ],
      "metadata": {
        "id": "ihfHO865AM5f",
        "outputId": "f7c8589e-66f0-4446-a91b-edab0e7da315",
        "colab": {
          "base_uri": "https://localhost:8080/"
        }
      },
      "execution_count": null,
      "outputs": [
        {
          "output_type": "stream",
          "name": "stdout",
          "text": [
            "Niño\n",
            "Joven\n",
            "Adulto\n",
            "Adulto mayor\n"
          ]
        }
      ]
    },
    {
      "cell_type": "code",
      "source": [
        "#V. Crea una función 𝒄𝒂𝒍𝒄𝒖𝒍𝒂𝒓_𝒄𝒓𝒂𝒆𝒔𝒕(𝒎𝒆𝒅𝒊𝒂_𝒑𝒆𝒓𝒔𝒐𝒏𝒂𝒍, 𝒎𝒆𝒅𝒊𝒂_𝒄𝒖𝒓𝒔𝒐, 𝒅𝒆𝒔𝒗𝒊𝒂𝒄𝒊𝒐𝒏_𝒄𝒖𝒓𝒔𝒐)\n",
        "\n",
        "def calcular_craest(media_personal, media_curso, desviacion_curso):\n",
        "  craest = ((media_personal - media_curso) * 10)/desviacion_curso + 50\n",
        "  return craest\n",
        "\n",
        "calcular_craest (14, 15, 3.5)"
      ],
      "metadata": {
        "id": "l8aIjARnCQrA",
        "outputId": "5550ca08-ed86-4bba-c0d9-8c9aac1856e1",
        "colab": {
          "base_uri": "https://localhost:8080/"
        }
      },
      "execution_count": null,
      "outputs": [
        {
          "output_type": "execute_result",
          "data": {
            "text/plain": [
              "47.142857142857146"
            ]
          },
          "metadata": {},
          "execution_count": 5
        }
      ]
    }
  ]
}